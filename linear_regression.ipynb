{
 "cells": [
  {
   "cell_type": "code",
   "execution_count": 1,
   "id": "3846334b",
   "metadata": {},
   "outputs": [
    {
     "name": "stderr",
     "output_type": "stream",
     "text": [
      "C:\\Users\\Mariam\\anaconda3\\lib\\site-packages\\scipy\\__init__.py:146: UserWarning: A NumPy version >=1.16.5 and <1.23.0 is required for this version of SciPy (detected version 1.26.2\n",
      "  warnings.warn(f\"A NumPy version >={np_minversion} and <{np_maxversion}\"\n"
     ]
    },
    {
     "name": "stdout",
     "output_type": "stream",
     "text": [
      "   YearsExperience  Salary\n",
      "0              1.1   39343\n",
      "1              1.3   46205\n",
      "2              1.5   37731\n",
      "3              2.0   43525\n",
      "4              2.2   39891\n"
     ]
    }
   ],
   "source": [
    "import pandas as pd\n",
    "from sklearn.model_selection import train_test_split\n",
    "from sklearn.linear_model import LinearRegression\n",
    "import matplotlib.pyplot as plt\n",
    "import statsmodels.api as sm\n",
    "\n",
    "data = pd.read_csv('Salary_Data.csv')\n",
    "\n",
    "print(data.head())"
   ]
  },
  {
   "cell_type": "code",
   "execution_count": 2,
   "id": "01e3e3ab",
   "metadata": {},
   "outputs": [
    {
     "name": "stdout",
     "output_type": "stream",
     "text": [
      "Linear Regression Summary for the First 10 Samples (Training Set):\n",
      "                            OLS Regression Results                            \n",
      "==============================================================================\n",
      "Dep. Variable:                 Salary   R-squared:                       0.798\n",
      "Model:                            OLS   Adj. R-squared:                  0.765\n",
      "Method:                 Least Squares   F-statistic:                     23.74\n",
      "Date:                Thu, 19 Sep 2024   Prob (F-statistic):            0.00279\n",
      "Time:                        21:43:22   Log-Likelihood:                -77.555\n",
      "No. Observations:                   8   AIC:                             159.1\n",
      "Df Residuals:                       6   BIC:                             159.3\n",
      "Df Model:                           1                                         \n",
      "Covariance Type:            nonrobust                                         \n",
      "===================================================================================\n",
      "                      coef    std err          t      P>|t|      [0.025      0.975]\n",
      "-----------------------------------------------------------------------------------\n",
      "const            2.578e+04   4952.259      5.206      0.002    1.37e+04    3.79e+04\n",
      "YearsExperience  9319.3772   1912.511      4.873      0.003    4639.631     1.4e+04\n",
      "==============================================================================\n",
      "Omnibus:                        0.172   Durbin-Watson:                   0.946\n",
      "Prob(Omnibus):                  0.918   Jarque-Bera (JB):                0.350\n",
      "Skew:                           0.113   Prob(JB):                        0.839\n",
      "Kurtosis:                       2.000   Cond. No.                         9.08\n",
      "==============================================================================\n",
      "\n",
      "Notes:\n",
      "[1] Standard Errors assume that the covariance matrix of the errors is correctly specified.\n"
     ]
    },
    {
     "name": "stderr",
     "output_type": "stream",
     "text": [
      "C:\\Users\\Mariam\\anaconda3\\lib\\site-packages\\scipy\\stats\\stats.py:1541: UserWarning: kurtosistest only valid for n>=20 ... continuing anyway, n=8\n",
      "  warnings.warn(\"kurtosistest only valid for n>=20 ... continuing \"\n"
     ]
    },
    {
     "name": "stdout",
     "output_type": "stream",
     "text": [
      "\n",
      "Test Set Predictions for the First 10 Samples:\n",
      "   Actual     Predicted\n",
      "8   64445  55604.032918\n",
      "1   46205  37897.216192\n"
     ]
    }
   ],
   "source": [
    "data_10 = data.head(10)\n",
    "\n",
    "X_10 = data_10[['YearsExperience']]\n",
    "y_10 = data_10['Salary']\n",
    "\n",
    "X_train_10, X_test_10, y_train_10, y_test_10 = train_test_split(X_10, y_10, test_size=0.2, random_state=42)\n",
    "\n",
    "X_train_10_sm = sm.add_constant(X_train_10)\n",
    "model_10 = sm.OLS(y_train_10, X_train_10_sm).fit()\n",
    "\n",
    "print(\"Linear Regression Summary for the First 10 Samples (Training Set):\")\n",
    "print(model_10.summary())\n",
    "\n",
    "model_10_sklearn = LinearRegression()\n",
    "model_10_sklearn.fit(X_train_10, y_train_10)\n",
    "\n",
    "y_pred_10 = model_10_sklearn.predict(X_test_10)\n",
    "\n",
    "print(\"\\nTest Set Predictions for the First 10 Samples:\")\n",
    "print(pd.DataFrame({'Actual': y_test_10, 'Predicted': y_pred_10}))"
   ]
  },
  {
   "cell_type": "code",
   "execution_count": 3,
   "id": "b06e6275",
   "metadata": {},
   "outputs": [
    {
     "name": "stdout",
     "output_type": "stream",
     "text": [
      "\n",
      "Linear Regression Summary for the Entire Dataset (Training Set):\n",
      "                            OLS Regression Results                            \n",
      "==============================================================================\n",
      "Dep. Variable:                 Salary   R-squared:                       0.965\n",
      "Model:                            OLS   Adj. R-squared:                  0.963\n",
      "Method:                 Least Squares   F-statistic:                     598.4\n",
      "Date:                Thu, 19 Sep 2024   Prob (F-statistic):           1.91e-17\n",
      "Time:                        21:43:23   Log-Likelihood:                -239.44\n",
      "No. Observations:                  24   AIC:                             482.9\n",
      "Df Residuals:                      22   BIC:                             485.2\n",
      "Df Model:                           1                                         \n",
      "Covariance Type:            nonrobust                                         \n",
      "===================================================================================\n",
      "                      coef    std err          t      P>|t|      [0.025      0.975]\n",
      "-----------------------------------------------------------------------------------\n",
      "const            2.532e+04   2285.938     11.077      0.000    2.06e+04    3.01e+04\n",
      "YearsExperience  9423.8153    385.233     24.463      0.000    8624.891    1.02e+04\n",
      "==============================================================================\n",
      "Omnibus:                        0.647   Durbin-Watson:                   2.026\n",
      "Prob(Omnibus):                  0.724   Jarque-Bera (JB):                0.697\n",
      "Skew:                           0.323   Prob(JB):                        0.706\n",
      "Kurtosis:                       2.472   Cond. No.                         12.5\n",
      "==============================================================================\n",
      "\n",
      "Notes:\n",
      "[1] Standard Errors assume that the covariance matrix of the errors is correctly specified.\n",
      "\n",
      "Test Set Predictions for the Entire Dataset:\n",
      "    Actual      Predicted\n",
      "27  112635  115790.210113\n",
      "15   67938   71498.278095\n",
      "23  113812  102596.868661\n",
      "17   83088   75267.804224\n",
      "8    64445   55477.792045\n",
      "9    57189   60189.699707\n"
     ]
    }
   ],
   "source": [
    "X_all = data[['YearsExperience']]\n",
    "y_all = data['Salary']\n",
    "\n",
    "X_train_all, X_test_all, y_train_all, y_test_all = train_test_split(X_all, y_all, test_size=0.2, random_state=42)\n",
    "\n",
    "X_train_all_sm = sm.add_constant(X_train_all)\n",
    "model_all = sm.OLS(y_train_all, X_train_all_sm).fit()\n",
    "\n",
    "print(\"\\nLinear Regression Summary for the Entire Dataset (Training Set):\")\n",
    "print(model_all.summary())\n",
    "\n",
    "model_all_sklearn = LinearRegression()\n",
    "model_all_sklearn.fit(X_train_all, y_train_all)\n",
    "\n",
    "y_pred_all = model_all_sklearn.predict(X_test_all)\n",
    "\n",
    "print(\"\\nTest Set Predictions for the Entire Dataset:\")\n",
    "print(pd.DataFrame({'Actual': y_test_all, 'Predicted': y_pred_all}))"
   ]
  },
  {
   "cell_type": "code",
   "execution_count": null,
   "id": "30ef4b09",
   "metadata": {},
   "outputs": [],
   "source": []
  }
 ],
 "metadata": {
  "kernelspec": {
   "display_name": "Python 3 (ipykernel)",
   "language": "python",
   "name": "python3"
  },
  "language_info": {
   "codemirror_mode": {
    "name": "ipython",
    "version": 3
   },
   "file_extension": ".py",
   "mimetype": "text/x-python",
   "name": "python",
   "nbconvert_exporter": "python",
   "pygments_lexer": "ipython3",
   "version": "3.9.7"
  }
 },
 "nbformat": 4,
 "nbformat_minor": 5
}
