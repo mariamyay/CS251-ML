{
 "cells": [
  {
   "cell_type": "code",
   "execution_count": 1,
   "metadata": {},
   "outputs": [],
   "source": [
    "import numpy as np\n",
    "import pandas as pd\n",
    "import time, warnings\n",
    "import datetime as dt\n",
    "import matplotlib.pyplot as plt\n",
    "warnings.filterwarnings(\"ignore\")\n",
    "from sklearn.model_selection import train_test_split\n",
    "import statsmodels.api as sm "
   ]
  },
  {
   "cell_type": "code",
   "execution_count": 2,
   "metadata": {},
   "outputs": [],
   "source": [
    "df = pd.read_excel(\"Student_Final_GPA.xlsx\")"
   ]
  },
  {
   "cell_type": "code",
   "execution_count": 3,
   "metadata": {},
   "outputs": [
    {
     "data": {
      "text/plain": [
       "(395, 32)"
      ]
     },
     "execution_count": 3,
     "metadata": {},
     "output_type": "execute_result"
    }
   ],
   "source": [
    "df.shape"
   ]
  },
  {
   "cell_type": "code",
   "execution_count": 4,
   "metadata": {},
   "outputs": [
    {
     "name": "stdout",
     "output_type": "stream",
     "text": [
      "<class 'pandas.core.frame.DataFrame'>\n",
      "RangeIndex: 395 entries, 0 to 394\n",
      "Data columns (total 32 columns):\n",
      " #   Column       Non-Null Count  Dtype  \n",
      "---  ------       --------------  -----  \n",
      " 0   StudentID    395 non-null    int64  \n",
      " 1   school2      395 non-null    object \n",
      " 2   sex          395 non-null    object \n",
      " 3   age          395 non-null    int64  \n",
      " 4   address      395 non-null    object \n",
      " 5   famsize      395 non-null    object \n",
      " 6   Pstatus      395 non-null    object \n",
      " 7   Medu         395 non-null    int64  \n",
      " 8   Fedu         395 non-null    int64  \n",
      " 9   Mjob         395 non-null    object \n",
      " 10  Fjob         395 non-null    object \n",
      " 11  reason       395 non-null    object \n",
      " 12  guardian     395 non-null    object \n",
      " 13  traveltime   395 non-null    int64  \n",
      " 14  studytime    395 non-null    int64  \n",
      " 15  failures     395 non-null    int64  \n",
      " 16  schoolsup    395 non-null    object \n",
      " 17  famsup       395 non-null    object \n",
      " 18  paid         395 non-null    object \n",
      " 19  activities   395 non-null    object \n",
      " 20  nursery      395 non-null    object \n",
      " 21  higher       395 non-null    object \n",
      " 22  internet     395 non-null    object \n",
      " 23  romantic     395 non-null    object \n",
      " 24  famrel       395 non-null    int64  \n",
      " 25  freetime     395 non-null    int64  \n",
      " 26  goout        395 non-null    int64  \n",
      " 27  Dalc         395 non-null    int64  \n",
      " 28  Walc         395 non-null    int64  \n",
      " 29  health       395 non-null    int64  \n",
      " 30  absences     395 non-null    float64\n",
      " 31  Final_Grade  395 non-null    int64  \n",
      "dtypes: float64(1), int64(14), object(17)\n",
      "memory usage: 98.9+ KB\n"
     ]
    }
   ],
   "source": [
    "df.info()\n",
    "#15 numeric and 17 categorical"
   ]
  },
  {
   "cell_type": "code",
   "execution_count": 5,
   "metadata": {},
   "outputs": [
    {
     "data": {
      "text/html": [
       "<div>\n",
       "<style scoped>\n",
       "    .dataframe tbody tr th:only-of-type {\n",
       "        vertical-align: middle;\n",
       "    }\n",
       "\n",
       "    .dataframe tbody tr th {\n",
       "        vertical-align: top;\n",
       "    }\n",
       "\n",
       "    .dataframe thead th {\n",
       "        text-align: right;\n",
       "    }\n",
       "</style>\n",
       "<table border=\"1\" class=\"dataframe\">\n",
       "  <thead>\n",
       "    <tr style=\"text-align: right;\">\n",
       "      <th></th>\n",
       "      <th>StudentID</th>\n",
       "      <th>age</th>\n",
       "      <th>Medu</th>\n",
       "      <th>Fedu</th>\n",
       "      <th>traveltime</th>\n",
       "      <th>studytime</th>\n",
       "      <th>failures</th>\n",
       "      <th>famrel</th>\n",
       "      <th>freetime</th>\n",
       "      <th>goout</th>\n",
       "      <th>Dalc</th>\n",
       "      <th>Walc</th>\n",
       "      <th>health</th>\n",
       "      <th>absences</th>\n",
       "      <th>Final_Grade</th>\n",
       "    </tr>\n",
       "  </thead>\n",
       "  <tbody>\n",
       "    <tr>\n",
       "      <th>count</th>\n",
       "      <td>395.000000</td>\n",
       "      <td>395.000000</td>\n",
       "      <td>395.000000</td>\n",
       "      <td>395.000000</td>\n",
       "      <td>395.000000</td>\n",
       "      <td>395.000000</td>\n",
       "      <td>395.000000</td>\n",
       "      <td>395.000000</td>\n",
       "      <td>395.000000</td>\n",
       "      <td>395.000000</td>\n",
       "      <td>395.000000</td>\n",
       "      <td>395.000000</td>\n",
       "      <td>395.000000</td>\n",
       "      <td>3.950000e+02</td>\n",
       "      <td>395.000000</td>\n",
       "    </tr>\n",
       "    <tr>\n",
       "      <th>mean</th>\n",
       "      <td>198.000000</td>\n",
       "      <td>16.696203</td>\n",
       "      <td>2.749367</td>\n",
       "      <td>2.521519</td>\n",
       "      <td>1.448101</td>\n",
       "      <td>2.035443</td>\n",
       "      <td>0.334177</td>\n",
       "      <td>3.944304</td>\n",
       "      <td>3.235443</td>\n",
       "      <td>3.108861</td>\n",
       "      <td>1.481013</td>\n",
       "      <td>2.291139</td>\n",
       "      <td>3.554430</td>\n",
       "      <td>3.199874e-01</td>\n",
       "      <td>52.075949</td>\n",
       "    </tr>\n",
       "    <tr>\n",
       "      <th>std</th>\n",
       "      <td>114.170924</td>\n",
       "      <td>1.276043</td>\n",
       "      <td>1.094735</td>\n",
       "      <td>1.088201</td>\n",
       "      <td>0.697505</td>\n",
       "      <td>0.839240</td>\n",
       "      <td>0.743651</td>\n",
       "      <td>0.896659</td>\n",
       "      <td>0.998862</td>\n",
       "      <td>1.113278</td>\n",
       "      <td>0.890741</td>\n",
       "      <td>1.287897</td>\n",
       "      <td>1.390303</td>\n",
       "      <td>4.397442e-01</td>\n",
       "      <td>22.907213</td>\n",
       "    </tr>\n",
       "    <tr>\n",
       "      <th>min</th>\n",
       "      <td>1.000000</td>\n",
       "      <td>15.000000</td>\n",
       "      <td>0.000000</td>\n",
       "      <td>0.000000</td>\n",
       "      <td>1.000000</td>\n",
       "      <td>1.000000</td>\n",
       "      <td>0.000000</td>\n",
       "      <td>1.000000</td>\n",
       "      <td>1.000000</td>\n",
       "      <td>1.000000</td>\n",
       "      <td>1.000000</td>\n",
       "      <td>1.000000</td>\n",
       "      <td>1.000000</td>\n",
       "      <td>2.678637e-33</td>\n",
       "      <td>0.000000</td>\n",
       "    </tr>\n",
       "    <tr>\n",
       "      <th>25%</th>\n",
       "      <td>99.500000</td>\n",
       "      <td>16.000000</td>\n",
       "      <td>2.000000</td>\n",
       "      <td>2.000000</td>\n",
       "      <td>1.000000</td>\n",
       "      <td>1.000000</td>\n",
       "      <td>0.000000</td>\n",
       "      <td>4.000000</td>\n",
       "      <td>3.000000</td>\n",
       "      <td>2.000000</td>\n",
       "      <td>1.000000</td>\n",
       "      <td>1.000000</td>\n",
       "      <td>3.000000</td>\n",
       "      <td>3.354626e-04</td>\n",
       "      <td>40.000000</td>\n",
       "    </tr>\n",
       "    <tr>\n",
       "      <th>50%</th>\n",
       "      <td>198.000000</td>\n",
       "      <td>17.000000</td>\n",
       "      <td>3.000000</td>\n",
       "      <td>2.000000</td>\n",
       "      <td>1.000000</td>\n",
       "      <td>2.000000</td>\n",
       "      <td>0.000000</td>\n",
       "      <td>4.000000</td>\n",
       "      <td>3.000000</td>\n",
       "      <td>3.000000</td>\n",
       "      <td>1.000000</td>\n",
       "      <td>2.000000</td>\n",
       "      <td>4.000000</td>\n",
       "      <td>1.831564e-02</td>\n",
       "      <td>55.000000</td>\n",
       "    </tr>\n",
       "    <tr>\n",
       "      <th>75%</th>\n",
       "      <td>296.500000</td>\n",
       "      <td>18.000000</td>\n",
       "      <td>4.000000</td>\n",
       "      <td>3.000000</td>\n",
       "      <td>2.000000</td>\n",
       "      <td>2.000000</td>\n",
       "      <td>0.000000</td>\n",
       "      <td>5.000000</td>\n",
       "      <td>4.000000</td>\n",
       "      <td>4.000000</td>\n",
       "      <td>2.000000</td>\n",
       "      <td>3.000000</td>\n",
       "      <td>5.000000</td>\n",
       "      <td>1.000000e+00</td>\n",
       "      <td>70.000000</td>\n",
       "    </tr>\n",
       "    <tr>\n",
       "      <th>max</th>\n",
       "      <td>395.000000</td>\n",
       "      <td>22.000000</td>\n",
       "      <td>4.000000</td>\n",
       "      <td>4.000000</td>\n",
       "      <td>4.000000</td>\n",
       "      <td>4.000000</td>\n",
       "      <td>3.000000</td>\n",
       "      <td>5.000000</td>\n",
       "      <td>5.000000</td>\n",
       "      <td>5.000000</td>\n",
       "      <td>5.000000</td>\n",
       "      <td>5.000000</td>\n",
       "      <td>5.000000</td>\n",
       "      <td>1.000000e+00</td>\n",
       "      <td>100.000000</td>\n",
       "    </tr>\n",
       "  </tbody>\n",
       "</table>\n",
       "</div>"
      ],
      "text/plain": [
       "        StudentID         age        Medu        Fedu  traveltime   studytime  \\\n",
       "count  395.000000  395.000000  395.000000  395.000000  395.000000  395.000000   \n",
       "mean   198.000000   16.696203    2.749367    2.521519    1.448101    2.035443   \n",
       "std    114.170924    1.276043    1.094735    1.088201    0.697505    0.839240   \n",
       "min      1.000000   15.000000    0.000000    0.000000    1.000000    1.000000   \n",
       "25%     99.500000   16.000000    2.000000    2.000000    1.000000    1.000000   \n",
       "50%    198.000000   17.000000    3.000000    2.000000    1.000000    2.000000   \n",
       "75%    296.500000   18.000000    4.000000    3.000000    2.000000    2.000000   \n",
       "max    395.000000   22.000000    4.000000    4.000000    4.000000    4.000000   \n",
       "\n",
       "         failures      famrel    freetime       goout        Dalc        Walc  \\\n",
       "count  395.000000  395.000000  395.000000  395.000000  395.000000  395.000000   \n",
       "mean     0.334177    3.944304    3.235443    3.108861    1.481013    2.291139   \n",
       "std      0.743651    0.896659    0.998862    1.113278    0.890741    1.287897   \n",
       "min      0.000000    1.000000    1.000000    1.000000    1.000000    1.000000   \n",
       "25%      0.000000    4.000000    3.000000    2.000000    1.000000    1.000000   \n",
       "50%      0.000000    4.000000    3.000000    3.000000    1.000000    2.000000   \n",
       "75%      0.000000    5.000000    4.000000    4.000000    2.000000    3.000000   \n",
       "max      3.000000    5.000000    5.000000    5.000000    5.000000    5.000000   \n",
       "\n",
       "           health      absences  Final_Grade  \n",
       "count  395.000000  3.950000e+02   395.000000  \n",
       "mean     3.554430  3.199874e-01    52.075949  \n",
       "std      1.390303  4.397442e-01    22.907213  \n",
       "min      1.000000  2.678637e-33     0.000000  \n",
       "25%      3.000000  3.354626e-04    40.000000  \n",
       "50%      4.000000  1.831564e-02    55.000000  \n",
       "75%      5.000000  1.000000e+00    70.000000  \n",
       "max      5.000000  1.000000e+00   100.000000  "
      ]
     },
     "execution_count": 5,
     "metadata": {},
     "output_type": "execute_result"
    }
   ],
   "source": [
    "df.describe()"
   ]
  },
  {
   "cell_type": "code",
   "execution_count": 6,
   "metadata": {},
   "outputs": [
    {
     "data": {
      "text/plain": [
       "StudentID      0\n",
       "school2        0\n",
       "sex            0\n",
       "age            0\n",
       "address        0\n",
       "famsize        0\n",
       "Pstatus        0\n",
       "Medu           0\n",
       "Fedu           0\n",
       "Mjob           0\n",
       "Fjob           0\n",
       "reason         0\n",
       "guardian       0\n",
       "traveltime     0\n",
       "studytime      0\n",
       "failures       0\n",
       "schoolsup      0\n",
       "famsup         0\n",
       "paid           0\n",
       "activities     0\n",
       "nursery        0\n",
       "higher         0\n",
       "internet       0\n",
       "romantic       0\n",
       "famrel         0\n",
       "freetime       0\n",
       "goout          0\n",
       "Dalc           0\n",
       "Walc           0\n",
       "health         0\n",
       "absences       0\n",
       "Final_Grade    0\n",
       "dtype: int64"
      ]
     },
     "execution_count": 6,
     "metadata": {},
     "output_type": "execute_result"
    }
   ],
   "source": [
    "df.isna().sum()"
   ]
  },
  {
   "cell_type": "code",
   "execution_count": 7,
   "metadata": {},
   "outputs": [
    {
     "name": "stdout",
     "output_type": "stream",
     "text": [
      "Duplicates: 0\n"
     ]
    }
   ],
   "source": [
    "print(\"Duplicates:\", df.duplicated().sum()) "
   ]
  },
  {
   "cell_type": "code",
   "execution_count": 8,
   "metadata": {},
   "outputs": [],
   "source": [
    "df = df.drop([\"StudentID\", \"address\"], axis=1)"
   ]
  },
  {
   "cell_type": "code",
   "execution_count": 9,
   "metadata": {},
   "outputs": [
    {
     "data": {
      "image/png": "[encoded data removed]",
      "text/plain": [
       "<Figure size 576x432 with 1 Axes>"
      ]
     },
     "metadata": {
      "needs_background": "light"
     },
     "output_type": "display_data"
    }
   ],
   "source": [
    "plt.figure(figsize=(8,6)) \n",
    "plt.hist(df.Final_Grade)\n",
    "plt.title(\"Final Grade Distribution\") \n",
    "plt.ylabel(\"Frequencies\")\n",
    "plt.xlabel(\"Grade\")\n",
    "plt.show()"
   ]
  },
  {
   "cell_type": "code",
   "execution_count": 10,
   "metadata": {},
   "outputs": [
    {
     "data": {
      "image/png": "[encoded data removed]",
      "text/plain": [
       "<Figure size 432x288 with 1 Axes>"
      ]
     },
     "metadata": {
      "needs_background": "light"
     },
     "output_type": "display_data"
    }
   ],
   "source": [
    "import seaborn as sns\n",
    "sns.boxplot(x=df.sex,y=df.Final_Grade)\n",
    "plt.xlabel(\"Gender\")#giving title to y axis\n",
    "plt.ylabel(\"Grade\")\n",
    "plt.title(\"Final Grade by gender\")\n",
    "plt.show()\n",
    "#males mean grade, min grade and max grades were a little bit higher than that of females, not much difference"
   ]
  },
  {
   "cell_type": "code",
   "execution_count": 11,
   "metadata": {},
   "outputs": [
    {
     "data": {
      "image/png": "[encoded data removed]",
      "text/plain": [
       "<Figure size 432x288 with 1 Axes>"
      ]
     },
     "metadata": {
      "needs_background": "light"
     },
     "output_type": "display_data"
    }
   ],
   "source": [
    "sns.scatterplot(df.Final_Grade,df.absences)\n",
    "plt.xlabel(\" Final Grade\")\n",
    "plt.ylabel(\"Absences\")\n",
    "plt.show()\n",
    "#no relationship"
   ]
  },
  {
   "cell_type": "code",
   "execution_count": 12,
   "metadata": {},
   "outputs": [],
   "source": [
    "data_numeric = df.select_dtypes(exclude=[\"object\"])"
   ]
  },
  {
   "cell_type": "code",
   "execution_count": 13,
   "metadata": {},
   "outputs": [
    {
     "data": {
      "image/png": "[encoded data removed]",
      "text/plain": [
       "<Figure size 720x360 with 2 Axes>"
      ]
     },
     "metadata": {
      "needs_background": "light"
     },
     "output_type": "display_data"
    }
   ],
   "source": [
    "plt.figure(figsize=(10,5))\n",
    "sns.heatmap(data_numeric.corr().abs().round(2),annot=True, cmap = \"BuGn\")\n",
    "plt.show()"
   ]
  },
  {
   "cell_type": "code",
   "execution_count": 14,
   "metadata": {},
   "outputs": [],
   "source": [
    "#there is high correlation between Walc and Dalc, and between Fedu and Medu, for the rest of the data there is not much correlation.\n",
    "#so in some cases it would be better to drop one of the categories for high correlation or combine them (for example combine Walc and Dalc)\n",
    "data_new = df[['Medu','failures','goout', 'absences','romantic','schoolsup','famsup','Final_Grade']]"
   ]
  },
  {
   "cell_type": "code",
   "execution_count": 15,
   "metadata": {},
   "outputs": [],
   "source": [
    "Y = data_new[\"Final_Grade\"]\n",
    "data_new_obj = data_new.select_dtypes(include=[\"object\"])\n",
    "data_dummies= pd.get_dummies(data_new_obj, drop_first=True)"
   ]
  },
  {
   "cell_type": "code",
   "execution_count": 16,
   "metadata": {},
   "outputs": [],
   "source": [
    "data_numeric = data_new.select_dtypes(exclude=[\"object\"])"
   ]
  },
  {
   "cell_type": "code",
   "execution_count": 17,
   "metadata": {},
   "outputs": [],
   "source": [
    "data_ols = pd.concat((data_numeric, data_dummies), axis=1)"
   ]
  },
  {
   "cell_type": "code",
   "execution_count": 18,
   "metadata": {},
   "outputs": [],
   "source": [
    "Y_linear=data_ols[\"Final_Grade\"]\n",
    "X_linear=data_ols.drop(\"Final_Grade\", axis=1)"
   ]
  },
  {
   "cell_type": "code",
   "execution_count": 19,
   "metadata": {},
   "outputs": [],
   "source": [
    "X_train, X_test, y_train, y_test = train_test_split(X_linear, Y_linear, test_size = 0.1,  random_state = 42)"
   ]
  },
  {
   "cell_type": "code",
   "execution_count": 20,
   "metadata": {},
   "outputs": [],
   "source": [
    "X_train = sm.add_constant(X_train)"
   ]
  },
  {
   "cell_type": "code",
   "execution_count": 21,
   "metadata": {},
   "outputs": [],
   "source": [
    "model_linear= sm.OLS(y_train,X_train)"
   ]
  },
  {
   "cell_type": "code",
   "execution_count": 22,
   "metadata": {},
   "outputs": [],
   "source": [
    "results = model_linear.fit()"
   ]
  },
  {
   "cell_type": "code",
   "execution_count": 23,
   "metadata": {},
   "outputs": [
    {
     "data": {
      "text/html": [
       "<table class=\"simpletable\">\n",
       "<caption>OLS Regression Results</caption>\n",
       "<tr>\n",
       "  <th>Dep. Variable:</th>       <td>Final_Grade</td>   <th>  R-squared:         </th> <td>   0.265</td>\n",
       "</tr>\n",
       "<tr>\n",
       "  <th>Model:</th>                   <td>OLS</td>       <th>  Adj. R-squared:    </th> <td>   0.250</td>\n",
       "</tr>\n",
       "<tr>\n",
       "  <th>Method:</th>             <td>Least Squares</td>  <th>  F-statistic:       </th> <td>   17.87</td>\n",
       "</tr>\n",
       "<tr>\n",
       "  <th>Date:</th>             <td>Thu, 19 Sep 2024</td> <th>  Prob (F-statistic):</th> <td>2.95e-20</td>\n",
       "</tr>\n",
       "<tr>\n",
       "  <th>Time:</th>                 <td>23:20:08</td>     <th>  Log-Likelihood:    </th> <td> -1556.7</td>\n",
       "</tr>\n",
       "<tr>\n",
       "  <th>No. Observations:</th>      <td>   355</td>      <th>  AIC:               </th> <td>   3129.</td>\n",
       "</tr>\n",
       "<tr>\n",
       "  <th>Df Residuals:</th>          <td>   347</td>      <th>  BIC:               </th> <td>   3160.</td>\n",
       "</tr>\n",
       "<tr>\n",
       "  <th>Df Model:</th>              <td>     7</td>      <th>                     </th>     <td> </td>   \n",
       "</tr>\n",
       "<tr>\n",
       "  <th>Covariance Type:</th>      <td>nonrobust</td>    <th>                     </th>     <td> </td>   \n",
       "</tr>\n",
       "</table>\n",
       "<table class=\"simpletable\">\n",
       "<tr>\n",
       "        <td></td>           <th>coef</th>     <th>std err</th>      <th>t</th>      <th>P>|t|</th>  <th>[0.025</th>    <th>0.975]</th>  \n",
       "</tr>\n",
       "<tr>\n",
       "  <th>const</th>         <td>   64.2123</td> <td>    4.310</td> <td>   14.897</td> <td> 0.000</td> <td>   55.734</td> <td>   72.690</td>\n",
       "</tr>\n",
       "<tr>\n",
       "  <th>Medu</th>          <td>    3.6126</td> <td>    1.015</td> <td>    3.560</td> <td> 0.000</td> <td>    1.617</td> <td>    5.608</td>\n",
       "</tr>\n",
       "<tr>\n",
       "  <th>failures</th>      <td>   -8.6233</td> <td>    1.483</td> <td>   -5.815</td> <td> 0.000</td> <td>  -11.540</td> <td>   -5.706</td>\n",
       "</tr>\n",
       "<tr>\n",
       "  <th>goout</th>         <td>   -2.9959</td> <td>    0.951</td> <td>   -3.149</td> <td> 0.002</td> <td>   -4.867</td> <td>   -1.125</td>\n",
       "</tr>\n",
       "<tr>\n",
       "  <th>absences</th>      <td>  -14.5370</td> <td>    2.426</td> <td>   -5.992</td> <td> 0.000</td> <td>  -19.309</td> <td>   -9.765</td>\n",
       "</tr>\n",
       "<tr>\n",
       "  <th>romantic_yes</th>  <td>   -4.8654</td> <td>    2.222</td> <td>   -2.190</td> <td> 0.029</td> <td>   -9.235</td> <td>   -0.496</td>\n",
       "</tr>\n",
       "<tr>\n",
       "  <th>schoolsup_yes</th> <td>   -5.3467</td> <td>    3.123</td> <td>   -1.712</td> <td> 0.088</td> <td>  -11.489</td> <td>    0.795</td>\n",
       "</tr>\n",
       "<tr>\n",
       "  <th>famsup_yes</th>    <td>   -4.6361</td> <td>    2.206</td> <td>   -2.101</td> <td> 0.036</td> <td>   -8.976</td> <td>   -0.296</td>\n",
       "</tr>\n",
       "</table>\n",
       "<table class=\"simpletable\">\n",
       "<tr>\n",
       "  <th>Omnibus:</th>       <td> 4.209</td> <th>  Durbin-Watson:     </th> <td>   1.930</td>\n",
       "</tr>\n",
       "<tr>\n",
       "  <th>Prob(Omnibus):</th> <td> 0.122</td> <th>  Jarque-Bera (JB):  </th> <td>   4.283</td>\n",
       "</tr>\n",
       "<tr>\n",
       "  <th>Skew:</th>          <td>-0.263</td> <th>  Prob(JB):          </th> <td>   0.117</td>\n",
       "</tr>\n",
       "<tr>\n",
       "  <th>Kurtosis:</th>      <td> 2.884</td> <th>  Cond. No.          </th> <td>    19.6</td>\n",
       "</tr>\n",
       "</table><br/><br/>Notes:<br/>[1] Standard Errors assume that the covariance matrix of the errors is correctly specified."
      ],
      "text/latex": [
       "\\begin{center}\n",
       "\\begin{tabular}{lclc}\n",
       "\\toprule\n",
       "\\textbf{Dep. Variable:}    &   Final\\_Grade   & \\textbf{  R-squared:         } &     0.265   \\\\\n",
       "\\textbf{Model:}            &       OLS        & \\textbf{  Adj. R-squared:    } &     0.250   \\\\\n",
       "\\textbf{Method:}           &  Least Squares   & \\textbf{  F-statistic:       } &     17.87   \\\\\n",
       "\\textbf{Date:}             & Thu, 19 Sep 2024 & \\textbf{  Prob (F-statistic):} &  2.95e-20   \\\\\n",
       "\\textbf{Time:}             &     23:20:08     & \\textbf{  Log-Likelihood:    } &   -1556.7   \\\\\n",
       "\\textbf{No. Observations:} &         355      & \\textbf{  AIC:               } &     3129.   \\\\\n",
       "\\textbf{Df Residuals:}     &         347      & \\textbf{  BIC:               } &     3160.   \\\\\n",
       "\\textbf{Df Model:}         &           7      & \\textbf{                     } &             \\\\\n",
       "\\textbf{Covariance Type:}  &    nonrobust     & \\textbf{                     } &             \\\\\n",
       "\\bottomrule\n",
       "\\end{tabular}\n",
       "\\begin{tabular}{lcccccc}\n",
       "                        & \\textbf{coef} & \\textbf{std err} & \\textbf{t} & \\textbf{P$> |$t$|$} & \\textbf{[0.025} & \\textbf{0.975]}  \\\\\n",
       "\\midrule\n",
       "\\textbf{const}          &      64.2123  &        4.310     &    14.897  &         0.000        &       55.734    &       72.690     \\\\\n",
       "\\textbf{Medu}           &       3.6126  &        1.015     &     3.560  &         0.000        &        1.617    &        5.608     \\\\\n",
       "\\textbf{failures}       &      -8.6233  &        1.483     &    -5.815  &         0.000        &      -11.540    &       -5.706     \\\\\n",
       "\\textbf{goout}          &      -2.9959  &        0.951     &    -3.149  &         0.002        &       -4.867    &       -1.125     \\\\\n",
       "\\textbf{absences}       &     -14.5370  &        2.426     &    -5.992  &         0.000        &      -19.309    &       -9.765     \\\\\n",
       "\\textbf{romantic\\_yes}  &      -4.8654  &        2.222     &    -2.190  &         0.029        &       -9.235    &       -0.496     \\\\\n",
       "\\textbf{schoolsup\\_yes} &      -5.3467  &        3.123     &    -1.712  &         0.088        &      -11.489    &        0.795     \\\\\n",
       "\\textbf{famsup\\_yes}    &      -4.6361  &        2.206     &    -2.101  &         0.036        &       -8.976    &       -0.296     \\\\\n",
       "\\bottomrule\n",
       "\\end{tabular}\n",
       "\\begin{tabular}{lclc}\n",
       "\\textbf{Omnibus:}       &  4.209 & \\textbf{  Durbin-Watson:     } &    1.930  \\\\\n",
       "\\textbf{Prob(Omnibus):} &  0.122 & \\textbf{  Jarque-Bera (JB):  } &    4.283  \\\\\n",
       "\\textbf{Skew:}          & -0.263 & \\textbf{  Prob(JB):          } &    0.117  \\\\\n",
       "\\textbf{Kurtosis:}      &  2.884 & \\textbf{  Cond. No.          } &     19.6  \\\\\n",
       "\\bottomrule\n",
       "\\end{tabular}\n",
       "%\\caption{OLS Regression Results}\n",
       "\\end{center}\n",
       "\n",
       "Notes: \\newline\n",
       " [1] Standard Errors assume that the covariance matrix of the errors is correctly specified."
      ],
      "text/plain": [
       "<class 'statsmodels.iolib.summary.Summary'>\n",
       "\"\"\"\n",
       "                            OLS Regression Results                            \n",
       "==============================================================================\n",
       "Dep. Variable:            Final_Grade   R-squared:                       0.265\n",
       "Model:                            OLS   Adj. R-squared:                  0.250\n",
       "Method:                 Least Squares   F-statistic:                     17.87\n",
       "Date:                Thu, 19 Sep 2024   Prob (F-statistic):           2.95e-20\n",
       "Time:                        23:20:08   Log-Likelihood:                -1556.7\n",
       "No. Observations:                 355   AIC:                             3129.\n",
       "Df Residuals:                     347   BIC:                             3160.\n",
       "Df Model:                           7                                         \n",
       "Covariance Type:            nonrobust                                         \n",
       "=================================================================================\n",
       "                    coef    std err          t      P>|t|      [0.025      0.975]\n",
       "---------------------------------------------------------------------------------\n",
       "const            64.2123      4.310     14.897      0.000      55.734      72.690\n",
       "Medu              3.6126      1.015      3.560      0.000       1.617       5.608\n",
       "failures         -8.6233      1.483     -5.815      0.000     -11.540      -5.706\n",
       "goout            -2.9959      0.951     -3.149      0.002      -4.867      -1.125\n",
       "absences        -14.5370      2.426     -5.992      0.000     -19.309      -9.765\n",
       "romantic_yes     -4.8654      2.222     -2.190      0.029      -9.235      -0.496\n",
       "schoolsup_yes    -5.3467      3.123     -1.712      0.088     -11.489       0.795\n",
       "famsup_yes       -4.6361      2.206     -2.101      0.036      -8.976      -0.296\n",
       "==============================================================================\n",
       "Omnibus:                        4.209   Durbin-Watson:                   1.930\n",
       "Prob(Omnibus):                  0.122   Jarque-Bera (JB):                4.283\n",
       "Skew:                          -0.263   Prob(JB):                        0.117\n",
       "Kurtosis:                       2.884   Cond. No.                         19.6\n",
       "==============================================================================\n",
       "\n",
       "Notes:\n",
       "[1] Standard Errors assume that the covariance matrix of the errors is correctly specified.\n",
       "\"\"\""
      ]
     },
     "execution_count": 23,
     "metadata": {},
     "output_type": "execute_result"
    }
   ],
   "source": [
    "results.summary()"
   ]
  }
 ],
 "metadata": {
  "kernelspec": {
   "display_name": "Python 3 (ipykernel)",
   "language": "python",
   "name": "python3"
  },
  "language_info": {
   "codemirror_mode": {
    "name": "ipython",
    "version": 3
   },
   "file_extension": ".py",
   "mimetype": "text/x-python",
   "name": "python",
   "nbconvert_exporter": "python",
   "pygments_lexer": "ipython3",
   "version": "3.9.7"
  }
 },
 "nbformat": 4,
 "nbformat_minor": 2
}
